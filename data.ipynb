{
 "cells": [
  {
   "cell_type": "markdown",
   "metadata": {},
   "source": [
    "1.Adding credit_card.csv data into cc_detail table"
   ]
  },
  {
   "cell_type": "code",
   "execution_count": 4,
   "metadata": {},
   "outputs": [
    {
     "name": "stdout",
     "output_type": "stream",
     "text": [
      "Data inserted successfully into MySQL database\n"
     ]
    }
   ],
   "source": [
    "import csv\n",
    "import MySQLdb\n",
    "from datetime import datetime\n",
    "\n",
    "def read_csv(file_path):\n",
    "    data = []\n",
    "    with open(file_path, 'r') as csvfile:\n",
    "        csvreader = csv.reader(csvfile)\n",
    "        for row in csvreader:\n",
    "            data.append(row)\n",
    "    return data\n",
    "\n",
    "def convert_date(date_str):\n",
    "    # Assuming date_str is in 'DD-MM-YYYY' format\n",
    "    return datetime.strptime(date_str, '%d-%m-%Y').date()\n",
    "\n",
    "def store_in_mysql(data, db_config):\n",
    "    try:\n",
    "        conn = MySQLdb.connect(**db_config)\n",
    "        cursor = conn.cursor()\n",
    "\n",
    "        # Assuming the CSV file has headers, skip the first row\n",
    "        for row in data[1:]:\n",
    "            # Convert the Week_Start_Date to the correct format\n",
    "            row[5] = convert_date(row[5])\n",
    "            # Modify this query according to your table structure\n",
    "            query = \"INSERT INTO cc_detail (Client_Num, Card_Category, Annual_Fees, Activation_30_Days, Customer_Acq_Cost, Week_Start_Date, Week_Num, Qtr, current_year, Credit_Limit, Total_Revolving_Bal, Total_Trans_Amt, Total_Trans_Ct, Avg_Utilization_Ratio, Use_Chip, Exp_Type, Interest_Earned, Delinquent_Acc) VALUES (%s, %s, %s, %s, %s, %s, %s, %s, %s, %s, %s, %s, %s, %s, %s, %s, %s, %s)\"\n",
    "            cursor.execute(query, row)\n",
    "\n",
    "        conn.commit()\n",
    "        print(\"Data inserted successfully into MySQL database\")\n",
    "\n",
    "    except Exception as e:\n",
    "        print(\"Error:\", e)\n",
    "        conn.rollback()\n",
    "\n",
    "    finally:\n",
    "        cursor.close()\n",
    "        conn.close()\n",
    "\n",
    "# Modify these variables according to your MySQL configuration\n",
    "csv_file_path = r'C:\\Users\\HP\\Desktop\\llm\\Data_Analyst\\Credit_Card_Financial_Dashboard\\data\\credit_card.csv'\n",
    "db_config = {\n",
    "    'host': 'localhost',\n",
    "    'user': 'root',\n",
    "    'password': '1234',\n",
    "    'db': 'ccdb'\n",
    "}\n",
    "\n",
    "data = read_csv(csv_file_path)\n",
    "store_in_mysql(data, db_config)\n"
   ]
  },
  {
   "cell_type": "markdown",
   "metadata": {},
   "source": [
    "2.Adding customer.csv data into cust_detail table\n"
   ]
  },
  {
   "cell_type": "code",
   "execution_count": null,
   "metadata": {},
   "outputs": [],
   "source": [
    "import csv\n",
    "import MySQLdb\n",
    "from datetime import datetime\n",
    "\n",
    "def read_csv(file_path):\n",
    "    data = []\n",
    "    with open(file_path, 'r') as csvfile:\n",
    "        csvreader = csv.reader(csvfile)\n",
    "        for row in csvreader:\n",
    "            data.append(row)\n",
    "    return data\n",
    "\n",
    "def store_in_mysql(data, db_config):\n",
    "    try:\n",
    "        conn = MySQLdb.connect(**db_config)\n",
    "        cursor = conn.cursor()\n",
    "\n",
    "        # Assuming the CSV file has headers, skip the first row\n",
    "        for row in data[1:]:\n",
    "           \n",
    "            # Modify this query according to your table structure\n",
    "            query = \"INSERT INTO cust_detail (Client_Num , Customer_Age , Gender , Dependent_Count , Education_Level , Marital_Status , State_cd , Zipcode , Car_Owner , House_Owner , Personal_Loan , Contact , Customer_Job , Income , Cust_Satisfaction_Score) VALUES (%s, %s, %s, %s, %s, %s, %s, %s, %s, %s, %s, %s, %s, %s, %s)\"\n",
    "            cursor.execute(query, row)\n",
    "\n",
    "        conn.commit()\n",
    "        print(\"Data inserted successfully into MySQL database\")\n",
    "\n",
    "    except Exception as e:\n",
    "        print(\"Error:\", e)\n",
    "        conn.rollback()\n",
    "\n",
    "    finally:\n",
    "        cursor.close()\n",
    "        conn.close()\n",
    "\n",
    "# Modify these variables according to your MySQL configuration\n",
    "csv_file_path = r'C:\\Users\\HP\\Desktop\\llm\\Data_Analyst\\Credit_Card_Financial_Dashboard\\data\\customer.csv'\n",
    "db_config = {\n",
    "    'host': 'localhost',\n",
    "    'user': 'root',\n",
    "    'password': '1234',\n",
    "    'db': 'ccdb'\n",
    "}\n",
    "\n",
    "data = read_csv(csv_file_path)\n",
    "store_in_mysql(data, db_config)\n"
   ]
  },
  {
   "cell_type": "markdown",
   "metadata": {},
   "source": [
    "# RUN after Dashboard creation"
   ]
  },
  {
   "cell_type": "markdown",
   "metadata": {},
   "source": [
    "3. Adding cc_add.csv data into cc_detail table for mimicking data pipeline (Update dashboard for new data)"
   ]
  },
  {
   "cell_type": "code",
   "execution_count": 13,
   "metadata": {},
   "outputs": [
    {
     "name": "stdout",
     "output_type": "stream",
     "text": [
      "Data inserted successfully into MySQL database\n"
     ]
    }
   ],
   "source": [
    "import csv\n",
    "import MySQLdb\n",
    "from datetime import datetime\n",
    "\n",
    "def read_csv(file_path):\n",
    "    data = []\n",
    "    with open(file_path, 'r') as csvfile:\n",
    "        csvreader = csv.reader(csvfile)\n",
    "        for row in csvreader:\n",
    "            data.append(row)\n",
    "    return data\n",
    "\n",
    "def convert_date(date_str):\n",
    "    # Assuming date_str is in 'DD-MM-YYYY' format\n",
    "    return datetime.strptime(date_str, '%d-%m-%Y').date()\n",
    "\n",
    "def store_in_mysql(data, db_config):\n",
    "    try:\n",
    "        conn = MySQLdb.connect(**db_config)\n",
    "        cursor = conn.cursor()\n",
    "\n",
    "        # Assuming the CSV file has headers, skip the first row\n",
    "        for row in data[1:]:\n",
    "            # Convert the Week_Start_Date to the correct format\n",
    "            row[5] = convert_date(row[5])\n",
    "            # Modify this query according to your table structure\n",
    "            query = \"INSERT INTO cc_detail (Client_Num, Card_Category, Annual_Fees, Activation_30_Days, Customer_Acq_Cost, Week_Start_Date, Week_Num, Qtr, current_year, Credit_Limit, Total_Revolving_Bal, Total_Trans_Amt, Total_Trans_Ct, Avg_Utilization_Ratio, Use_Chip, Exp_Type, Interest_Earned, Delinquent_Acc) VALUES (%s, %s, %s, %s, %s, %s, %s, %s, %s, %s, %s, %s, %s, %s, %s, %s, %s, %s)\"\n",
    "            cursor.execute(query, row)\n",
    "\n",
    "        conn.commit()\n",
    "        print(\"Data inserted successfully into MySQL database\")\n",
    "\n",
    "    except Exception as e:\n",
    "        print(\"Error:\", e)\n",
    "        conn.rollback()\n",
    "\n",
    "    finally:\n",
    "        cursor.close()\n",
    "        conn.close()\n",
    "\n",
    "# Modify these variables according to your MySQL configuration\n",
    "csv_file_path = r'C:\\Users\\HP\\Desktop\\llm\\Data_Analyst\\Credit_Card_Financial_Dashboard\\data\\cc_add.csv'\n",
    "db_config = {\n",
    "    'host': 'localhost',\n",
    "    'user': 'root',\n",
    "    'password': '1234',\n",
    "    'db': 'ccdb'\n",
    "}\n",
    "\n",
    "data = read_csv(csv_file_path)\n",
    "store_in_mysql(data, db_config)\n"
   ]
  },
  {
   "cell_type": "markdown",
   "metadata": {},
   "source": [
    "4. Adding cust_add.csv data into cust_detail table for mimicking data pipeline (Update dashboard for new data)"
   ]
  },
  {
   "cell_type": "code",
   "execution_count": 14,
   "metadata": {},
   "outputs": [
    {
     "name": "stdout",
     "output_type": "stream",
     "text": [
      "Error: time data 'Married' does not match format '%d-%m-%Y'\n"
     ]
    }
   ],
   "source": [
    "import csv\n",
    "import MySQLdb\n",
    "from datetime import datetime\n",
    "\n",
    "def read_csv(file_path):\n",
    "    data = []\n",
    "    with open(file_path, 'r') as csvfile:\n",
    "        csvreader = csv.reader(csvfile)\n",
    "        for row in csvreader:\n",
    "            data.append(row)\n",
    "    return data\n",
    "\n",
    "def store_in_mysql(data, db_config):\n",
    "    try:\n",
    "        conn = MySQLdb.connect(**db_config)\n",
    "        cursor = conn.cursor()\n",
    "\n",
    "        # Assuming the CSV file has headers, skip the first row\n",
    "        for row in data[1:]:\n",
    "            \n",
    "            # Modify this query according to your table structure\n",
    "            query = \"INSERT INTO cust_detail (Client_Num , Customer_Age , Gender , Dependent_Count , Education_Level , Marital_Status , State_cd , Zipcode , Car_Owner , House_Owner , Personal_Loan , Contact , Customer_Job , Income , Cust_Satisfaction_Score) VALUES (%s, %s, %s, %s, %s, %s, %s, %s, %s, %s, %s, %s, %s, %s, %s)\"\n",
    "            cursor.execute(query, row)\n",
    "\n",
    "        conn.commit()\n",
    "        print(\"Data inserted successfully into MySQL database\")\n",
    "\n",
    "    except Exception as e:\n",
    "        print(\"Error:\", e)\n",
    "        conn.rollback()\n",
    "\n",
    "    finally:\n",
    "        cursor.close()\n",
    "        conn.close()\n",
    "\n",
    "# Modify these variables according to your MySQL configuration\n",
    "csv_file_path = r'C:\\Users\\HP\\Desktop\\llm\\Data_Analyst\\Credit_Card_Financial_Dashboard\\data\\cust_add.csv'\n",
    "db_config = {\n",
    "    'host': 'localhost',\n",
    "    'user': 'root',\n",
    "    'password': '1234',\n",
    "    'db': 'ccdb'\n",
    "}\n",
    "\n",
    "data = read_csv(csv_file_path)\n",
    "store_in_mysql(data, db_config)\n"
   ]
  },
  {
   "cell_type": "code",
   "execution_count": null,
   "metadata": {},
   "outputs": [],
   "source": []
  }
 ],
 "metadata": {
  "kernelspec": {
   "display_name": "Python 3",
   "language": "python",
   "name": "python3"
  },
  "language_info": {
   "codemirror_mode": {
    "name": "ipython",
    "version": 3
   },
   "file_extension": ".py",
   "mimetype": "text/x-python",
   "name": "python",
   "nbconvert_exporter": "python",
   "pygments_lexer": "ipython3",
   "version": "3.10.0"
  }
 },
 "nbformat": 4,
 "nbformat_minor": 2
}
